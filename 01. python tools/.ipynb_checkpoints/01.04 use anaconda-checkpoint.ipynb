{
 "cells": [
  {
   "cell_type": "markdown",
   "metadata": {},
   "source": [
    "# 使用 Anaconda"
   ]
  },
  {
   "cell_type": "markdown",
   "metadata": {},
   "source": [
    "[Anaconda](http://www.continuum.io/downloads)是一个很好用的Python IDE，它集成了很多科学计算需要使用的**python**第三方工具包。"
   ]
  },
  {
   "cell_type": "markdown",
   "metadata": {},
   "source": [
    "## conda 的使用 "
   ]
  },
  {
   "cell_type": "markdown",
   "metadata": {},
   "source": [
    "根据自己的操作系统安装好[Anaconda](http://www.continuum.io/downloads)后，在命令行下输入："
   ]
  },
  {
   "cell_type": "markdown",
   "metadata": {},
   "source": [
    "    conda list"
   ]
  },
  {
   "cell_type": "markdown",
   "metadata": {},
   "source": [
    "可以看已经安装好的**python**第三方工具包，这里我们使用 `magic` 命令 `%%cmd` 在 `ipython cell` 中来执行这个命令："
   ]
  },
  {
   "cell_type": "code",
   "execution_count": 1,
   "metadata": {
    "collapsed": false
   },
   "outputs": [
    {
     "name": "stdout",
     "output_type": "stream",
     "text": [
      "Microsoft Windows [�汾 6.1.7601]\r\n",
      "��Ȩ���� (c) 2009 Microsoft Corporation����������Ȩ����\r\n",
      "\r\n",
      "C:\\Users\\lijin>conda list\n",
      "# packages in environment at C:\\Anaconda:\r\n",
      "#\r\n",
      "_license                  1.1                      py27_0  \r\n",
      "anaconda                  2.2.0                np19py27_0  \r\n",
      "argcomplete               0.8.4                    py27_0  \r\n",
      "astropy                   1.0.1                np19py27_0  \r\n",
      "atom                      0.3.9                    py27_0  \r\n",
      "bcolz                     0.8.1                np19py27_0  \r\n",
      "beautiful-soup            4.3.2                    py27_1  \r\n",
      "binstar                   0.10.1                   py27_3  \r\n",
      "biopython                 1.61                 np17py27_0  \r\n",
      "bitarray                  0.8.1                    py27_1  \r\n",
      "blaze                     0.6.3                np19py27_0  \r\n",
      "blaze-core                0.7.3                np19py27_0  \r\n",
      "blz                       0.6.2                np19py27_0  \r\n",
      "bokeh                     0.8.1                np19py27_1  \r\n",
      "boto                      2.36.0                   py27_0  \r\n",
      "casuarius                 1.1                      py27_0  \r\n",
      "cdecimal                  2.3                      py27_1  \r\n",
      "certifi                   14.05.14                 py27_0  \r\n",
      "cffi                      0.9.2                    py27_0  \r\n",
      "chaco                     4.4.1                np19py27_0  \r\n",
      "clyent                    0.3.4                    py27_0  \r\n",
      "colorama                  0.3.3                    py27_0  \r\n",
      "conda                     3.14.1                   py27_0  \r\n",
      "conda-env                 2.2.3                    py27_0  \r\n",
      "configobj                 5.0.6                    py27_0  \r\n",
      "cryptography              0.8                      py27_1  \r\n",
      "cubes                     0.10.2                   py27_2  \r\n",
      "cython                    0.22                     py27_0  \r\n",
      "cytoolz                   0.7.2                    py27_0  \r\n",
      "datashape                 0.4.4                np19py27_1  \r\n",
      "dateutil                  2.1                      py27_2  \r\n",
      "decorator                 3.4.0                    py27_0  \r\n",
      "distribute                0.6.45                   py27_0  \r\n",
      "docutils                  0.12                     py27_1  \r\n",
      "dynd-python               0.6.5                np19py27_0  \r\n",
      "enable                    4.3.0                np19py27_2  \r\n",
      "enaml                     0.9.8                    py27_0  \r\n",
      "enum34                    1.0.4                    py27_0  \r\n",
      "fastcache                 1.0.2                    py27_0  \r\n",
      "flask                     0.10.1                   py27_1  \r\n",
      "funcsigs                  0.4                      py27_0  \r\n",
      "future                    0.13.1                   py27_0  \r\n",
      "futures                   2.2.0                    py27_0  \r\n",
      "gevent                    1.0.1                    py27_0  \r\n",
      "gevent-websocket          0.9.3                    py27_0  \r\n",
      "gevent_zeromq             0.2.5                    py27_2  \r\n",
      "greenlet                  0.4.5                    py27_0  \r\n",
      "grin                      1.2.1                    py27_2  \r\n",
      "h5py                      2.4.0                np19py27_0  \r\n",
      "imaging                   1.1.7                    py27_2  \r\n",
      "ipython                   3.0.0                    py27_1  \r\n",
      "ipython-notebook          3.0.0                    py27_2  \r\n",
      "ipython-qtconsole         3.0.0                    py27_1  \r\n",
      "itsdangerous              0.24                     py27_0  \r\n",
      "jdcal                     1.0                      py27_0  \r\n",
      "jedi                      0.8.1                    py27_0  \r\n",
      "jinja2                    2.7.3                    py27_2  \r\n",
      "jsonschema                2.4.0                    py27_0  \r\n",
      "keyring                   1.4                      py27_0  \r\n",
      "kiwisolver                0.1.3                    py27_0  \r\n",
      "launcher                  1.0.0                         1  \r\n",
      "libpython                 1.0                      py27_1  \r\n",
      "llvmlite                  0.2.2                    py27_1  \r\n",
      "llvmmath                  0.1.0                np17py27_0  \r\n",
      "llvmpy                    0.12.7                   py27_0  \r\n",
      "lxml                      3.4.4                    py27_0  \r\n",
      "markupsafe                0.23                     py27_0  \r\n",
      "matplotlib                1.4.3                np19py27_1  \r\n",
      "mdp                       3.3                  np17py27_0  \r\n",
      "menuinst                  1.0.4                    py27_0  \r\n",
      "meta                      0.4.2.dev                py27_0  \r\n",
      "mingw                     4.7                           1  \r\n",
      "mistune                   0.5.1                    py27_0  \r\n",
      "mock                      1.0.1                    py27_0  \r\n",
      "multipledispatch          0.4.7                    py27_0  \r\n",
      "networkx                  1.9.1                    py27_0  \r\n",
      "nltk                      3.0.2                np19py27_0  \r\n",
      "node-webkit               0.10.1                        0  \r\n",
      "nose                      1.3.4                    py27_1  \r\n",
      "numba                     0.17.0               np19py27_0  \r\n",
      "numexpr                   2.3.1                np19py27_0  \r\n",
      "numpy                     1.9.2                    py27_0  \r\n",
      "odo                       0.3.1                np19py27_0  \r\n",
      "openpyxl                  2.0.2                    py27_0  \r\n",
      "pandas                    0.15.2               np19py27_1  \r\n",
      "patsy                     0.3.0                np19py27_0  \r\n",
      "pep8                      1.6.2                    py27_0  \r\n",
      "pil                       1.1.7                    py27_0  \r\n",
      "pillow                    2.7.0                    py27_0  \r\n",
      "pip                       7.0.3                    py27_0  \r\n",
      "ply                       3.4                      py27_0  \r\n",
      "psutil                    0.7.1                    py27_0  \r\n",
      "py                        1.4.26                   py27_0  \r\n",
      "pyasn1                    0.1.7                    py27_0  \r\n",
      "pycosat                   0.6.0                    py27_0  \r\n",
      "pycparser                 2.10                     py27_0  \r\n",
      "pycrypto                  2.6.1                    py27_3  \r\n",
      "pyface                    4.4.0                    py27_0  \r\n",
      "pyflakes                  0.8.1                    py27_0  \r\n",
      "pygments                  2.0.2                    py27_0  \r\n",
      "pyopenssl                 0.14                     py27_0  \r\n",
      "pyparsing                 2.0.3                    py27_0  \r\n",
      "pyqt                      4.10.4                   py27_1  \r\n",
      "pyreadline                2.0                      py27_0  \r\n",
      "pysal                     1.5.0                np17py27_1  \r\n",
      "pyside                    1.1.2                    py27_0  \r\n",
      "pytables                  3.1.1                np19py27_1  \r\n",
      "pytest                    2.6.4                    py27_0  \r\n",
      "python                    2.7.5                         2  \r\n",
      "python-dateutil           2.4.1                    py27_0  \r\n",
      "pytz                      2015.2                   py27_0  \r\n",
      "pywin32                   219                      py27_0  \r\n",
      "pyyaml                    3.11                     py27_1  \r\n",
      "pyzmq                     14.5.0                   py27_0  \r\n",
      "requests                  2.7.0                    py27_0  \r\n",
      "rope                      0.9.4                    py27_1  \r\n",
      "runipy                    0.1.3                    py27_0  \r\n",
      "scikit-image              0.11.2               np19py27_0  \r\n",
      "scikit-learn              0.15.2               np19py27_0  \r\n",
      "scipy                     0.15.1               np19py27_0  \r\n",
      "setuptools                17.1.1                   py27_0  \r\n",
      "six                       1.9.0                    py27_0  \r\n",
      "sockjs-tornado            1.0.1                    py27_0  \r\n",
      "sphinx                    1.2.3                    py27_0  \r\n",
      "spyder                    2.3.4                    py27_1  \r\n",
      "spyder-app                2.3.4                    py27_0  \r\n",
      "sqlalchemy                0.9.9                    py27_0  \r\n",
      "ssl_match_hostname        3.4.0.2                  py27_0  \r\n",
      "statsmodels               0.6.1                np19py27_0  \r\n",
      "sympy                     0.7.6                    py27_0  \r\n",
      "toolz                     0.7.1                    py27_0  \r\n",
      "tornado                   4.1                      py27_0  \r\n",
      "traits                    4.4.0                    py27_0  \r\n",
      "traitsui                  4.4.0                    py27_0  \r\n",
      "ujson                     1.33                     py27_0  \r\n",
      "unicodecsv                0.9.4                    py27_0  \r\n",
      "werkzeug                  0.10.1                   py27_0  \r\n",
      "xlrd                      0.9.3                    py27_0  \r\n",
      "xlsxwriter                0.6.7                    py27_0  \r\n",
      "xlwings                   0.3.4                    py27_0  \r\n",
      "xlwt                      0.7.5                    py27_0  \r\n",
      "\r\n",
      "C:\\Users\\lijin>"
     ]
    }
   ],
   "source": [
    "%%cmd \n",
    "conda list"
   ]
  },
  {
   "cell_type": "markdown",
   "metadata": {},
   "source": [
    "第一次安装好[Anaconda](http://www.continuum.io/downloads)以后，可以在命令行输入以下命令使[Anaconda](http://www.continuum.io/downloads)保持最新："
   ]
  },
  {
   "cell_type": "markdown",
   "metadata": {},
   "source": [
    "    conda update conda\n",
    "    conda update anaconda"
   ]
  },
  {
   "cell_type": "markdown",
   "metadata": {},
   "source": [
    "conda 是一种很强大的工具，具体用法可以参照它的[文档](http://conda.pydata.org/docs/)。"
   ]
  },
  {
   "cell_type": "markdown",
   "metadata": {},
   "source": [
    "也可以参考它的[cheat sheet](http://conda.pydata.org/docs/_downloads/conda-cheatsheet.pdf)来快速查看它的用法。"
   ]
  },
  {
   "cell_type": "markdown",
   "metadata": {},
   "source": [
    "可以使用它来安装，更新，卸载第三方的**python**工具包："
   ]
  },
  {
   "cell_type": "markdown",
   "metadata": {},
   "source": [
    "    conda install <some package>\n",
    "    conda update <some package>\n",
    "    conda remove <some package>"
   ]
  },
  {
   "cell_type": "markdown",
   "metadata": {},
   "source": [
    "在安装或更新时可以指定安装的版本号，例如需要使用`numpy 1.8.1`："
   ]
  },
  {
   "cell_type": "markdown",
   "metadata": {},
   "source": [
    "    conda install numpy=1.8.1\n",
    "    conda update numpy=1.8.1"
   ]
  },
  {
   "cell_type": "markdown",
   "metadata": {},
   "source": [
    "查看 `conda` 的信息："
   ]
  },
  {
   "cell_type": "markdown",
   "metadata": {},
   "source": [
    "    conda info"
   ]
  },
  {
   "cell_type": "code",
   "execution_count": 4,
   "metadata": {
    "collapsed": false
   },
   "outputs": [
    {
     "name": "stdout",
     "output_type": "stream",
     "text": [
      "Microsoft Windows [�汾 6.1.7601]\r\n",
      "��Ȩ���� (c) 2009 Microsoft Corporation����������Ȩ����\r\n",
      "\r\n",
      "C:\\Users\\lijin>conda info\n",
      "Current conda install:\r\n",
      "\r\n",
      "             platform : win-64\r\n",
      "        conda version : 3.14.1\r\n",
      "  conda-build version : not installed\r\n",
      "       python version : 2.7.5.final.0\r\n",
      "     requests version : 2.7.0\r\n",
      "     root environment : C:\\Anaconda  (writable)\r\n",
      "  default environment : C:\\Anaconda\r\n",
      "     envs directories : C:\\Anaconda\\envs\r\n",
      "        package cache : C:\\Anaconda\\pkgs\r\n",
      "         channel URLs : https://repo.continuum.io/pkgs/free/win-64/\r\n",
      "                        https://repo.continuum.io/pkgs/free/noarch/\r\n",
      "                        https://repo.continuum.io/pkgs/pro/win-64/\r\n",
      "                        https://repo.continuum.io/pkgs/pro/noarch/\r\n",
      "          config file : None\r\n",
      "    is foreign system : False\r\n",
      "\r\n",
      "\r\n",
      "C:\\Users\\lijin>"
     ]
    }
   ],
   "source": [
    "%%cmd\n",
    "conda info"
   ]
  },
  {
   "cell_type": "markdown",
   "metadata": {},
   "source": [
    "一个很棒的功能是 `conda` 可以产生一个自定义的环境，假设在安装的是**python 2.7**的情况下，想使用**python 3.4**，只需要在命令行下使用 `conda` 产生一个新的环境："
   ]
  },
  {
   "cell_type": "markdown",
   "metadata": {},
   "source": [
    "    conda create -n py34 python=3.4"
   ]
  },
  {
   "cell_type": "markdown",
   "metadata": {},
   "source": [
    "这里这个环境被命名为 `py34` ，可以根据喜好将 `py34` 改成其他的名字。"
   ]
  },
  {
   "cell_type": "markdown",
   "metadata": {},
   "source": [
    "使用这个环境时，只需要命令行下输入："
   ]
  },
  {
   "cell_type": "markdown",
   "metadata": {},
   "source": [
    "``` python\n",
    "activate py34 #(windows)\n",
    "source activate py34 #(linux, mac)\n",
    "```"
   ]
  },
  {
   "cell_type": "markdown",
   "metadata": {},
   "source": [
    "此时，我们的python版本便是 **`python 3.4`**了。"
   ]
  },
  {
   "cell_type": "markdown",
   "metadata": {},
   "source": [
    "## spyder 编辑器"
   ]
  },
  {
   "cell_type": "markdown",
   "metadata": {},
   "source": [
    "`Anaconda`使用的编辑器是`spyder`，可以在命令行下输入："
   ]
  },
  {
   "cell_type": "markdown",
   "metadata": {},
   "source": [
    "    spyder"
   ]
  },
  {
   "cell_type": "markdown",
   "metadata": {},
   "source": [
    "来进入这个编辑器，具体使用方法不做介绍。"
   ]
  }
 ],
 "metadata": {
  "kernelspec": {
   "display_name": "Python 2",
   "language": "python",
   "name": "python2"
  },
  "language_info": {
   "codemirror_mode": {
    "name": "ipython",
    "version": 2
   },
   "file_extension": ".py",
   "mimetype": "text/x-python",
   "name": "python",
   "nbconvert_exporter": "python",
   "pygments_lexer": "ipython2",
   "version": "2.7.9"
  }
 },
 "nbformat": 4,
 "nbformat_minor": 0
}

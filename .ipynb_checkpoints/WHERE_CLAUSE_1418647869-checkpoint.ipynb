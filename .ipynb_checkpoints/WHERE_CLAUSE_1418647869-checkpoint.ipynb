{
 "metadata": {
  "name": "WHERE_CLAUSE.ipynb"
 },
 "nbformat": 3,
 "nbformat_minor": 0,
 "worksheets": [
  {
   "cells": [
    {
     "cell_type": "heading",
     "level": 1,
     "metadata": {},
     "source": [
      "Using the where() function"
     ]
    },
    {
     "cell_type": "markdown",
     "metadata": {},
     "source": [
      "The where() function will return the indices of every element in an array where the value is non-zero.  First, let's look at one dimensional arrays to get our feet wet with it."
     ]
    },
    {
     "cell_type": "code",
     "collapsed": false,
     "input": [
      "a = array([0, 12, 5, 20])"
     ],
     "language": "python",
     "metadata": {},
     "outputs": [],
     "prompt_number": 19
    },
    {
     "cell_type": "markdown",
     "metadata": {},
     "source": [
      "If we want to know which elements of an array are greater than 10, we can use a comparison to generate a True/False mask indicating which values are greater than 10."
     ]
    },
    {
     "cell_type": "code",
     "collapsed": false,
     "input": [
      "a>10"
     ],
     "language": "python",
     "metadata": {},
     "outputs": [
      {
       "output_type": "pyout",
       "prompt_number": 18,
       "text": [
        "array([False,  True, False,  True], dtype=bool)"
       ]
      }
     ],
     "prompt_number": 18
    },
    {
     "cell_type": "markdown",
     "metadata": {},
     "source": [
      "If, instead, we want to know the indices of the elements that are greater than 10, the `where()` comes in handy.  It will return the indices of all non-zero values."
     ]
    },
    {
     "cell_type": "code",
     "collapsed": false,
     "input": [
      "where(a>10)"
     ],
     "language": "python",
     "metadata": {},
     "outputs": [
      {
       "output_type": "pyout",
       "prompt_number": 20,
       "text": [
        "(array([1, 3]),)"
       ]
      }
     ],
     "prompt_number": 20
    },
    {
     "cell_type": "markdown",
     "metadata": {},
     "source": [
      "That is pretty handy.  But, be careful!  Notice that the return value is a tuple that contains the indices as its first element.  This is due to the fact that a could be multi-dimensional, and `where` needs to be able to return, in the case of two dimensional arrays, an array of row *and* an array of column indices.  But, in truth, this is a bit of a pain for working with one dimensional arrays where you just want to get the index array back.  It is your job to pull it out.\n",
      "\n",
      "There are a couple of common ways to do this.  "
     ]
    },
    {
     "cell_type": "code",
     "collapsed": false,
     "input": [
      "indices = where(a>10)\n",
      "indices = indices[0]\n",
      "indices"
     ],
     "language": "python",
     "metadata": {},
     "outputs": [
      {
       "output_type": "pyout",
       "prompt_number": 24,
       "text": [
        "array([1, 3])"
       ]
      }
     ],
     "prompt_number": 24
    },
    {
     "cell_type": "code",
     "collapsed": false,
     "input": [
      "# or\n",
      "indices = where(a>10)[0]\n",
      "indices"
     ],
     "language": "python",
     "metadata": {},
     "outputs": [
      {
       "output_type": "pyout",
       "prompt_number": 26,
       "text": [
        "array([1, 3])"
       ]
      }
     ],
     "prompt_number": 26
    },
    {
     "cell_type": "heading",
     "level": 2,
     "metadata": {},
     "source": [
      "Multi-dimensional arrays"
     ]
    },
    {
     "cell_type": "markdown",
     "metadata": {},
     "source": [
      "Here we have a two dimensional array that demonstrates how the row and column indices are returned from where for each of the non-zero elements."
     ]
    },
    {
     "cell_type": "code",
     "collapsed": false,
     "input": [
      "a = array([[0, 12, 5, 20],\n",
      "           [1, 2, 11, 15]])"
     ],
     "language": "python",
     "metadata": {},
     "outputs": [],
     "prompt_number": 27
    },
    {
     "cell_type": "code",
     "collapsed": false,
     "input": [
      "loc = where(a>10)\n",
      "loc"
     ],
     "language": "python",
     "metadata": {},
     "outputs": [
      {
       "output_type": "pyout",
       "prompt_number": 29,
       "text": [
        "(array([0, 0, 1, 1]), array([1, 3, 2, 3]))"
       ]
      }
     ],
     "prompt_number": 29
    },
    {
     "cell_type": "code",
     "collapsed": false,
     "input": [
      "a[loc]"
     ],
     "language": "python",
     "metadata": {},
     "outputs": [
      {
       "output_type": "pyout",
       "prompt_number": 30,
       "text": [
        "array([12, 20, 11, 15])"
       ]
      }
     ],
     "prompt_number": 30
    },
    {
     "cell_type": "code",
     "collapsed": false,
     "input": [
      "# or alternatively:\n",
      "rows, cols = where(a>10)"
     ],
     "language": "python",
     "metadata": {},
     "outputs": [],
     "prompt_number": 31
    },
    {
     "cell_type": "code",
     "collapsed": false,
     "input": [
      "rows"
     ],
     "language": "python",
     "metadata": {},
     "outputs": [
      {
       "output_type": "pyout",
       "prompt_number": 32,
       "text": [
        "array([0, 0, 1, 1])"
       ]
      }
     ],
     "prompt_number": 32
    },
    {
     "cell_type": "code",
     "collapsed": false,
     "input": [
      "cols"
     ],
     "language": "python",
     "metadata": {},
     "outputs": [
      {
       "output_type": "pyout",
       "prompt_number": 33,
       "text": [
        "array([1, 3, 2, 3])"
       ]
      }
     ],
     "prompt_number": 33
    },
    {
     "cell_type": "code",
     "collapsed": false,
     "input": [
      "a[rows, cols]"
     ],
     "language": "python",
     "metadata": {},
     "outputs": [
      {
       "output_type": "pyout",
       "prompt_number": 34,
       "text": [
        "array([12, 20, 11, 15])"
       ]
      }
     ],
     "prompt_number": 34
    },
    {
     "cell_type": "markdown",
     "metadata": {},
     "source": [
      "Here is another example with two dimensional arrays (from the command line demos in the video lecture)."
     ]
    },
    {
     "cell_type": "code",
     "collapsed": false,
     "input": [
      "a = arange(25)\n",
      "a.shape = 5,5\n",
      "a"
     ],
     "language": "python",
     "metadata": {},
     "outputs": [
      {
       "output_type": "pyout",
       "prompt_number": 38,
       "text": [
        "array([[ 0,  1,  2,  3,  4],\n",
        "       [ 5,  6,  7,  8,  9],\n",
        "       [10, 11, 12, 13, 14],\n",
        "       [15, 16, 17, 18, 19],\n",
        "       [20, 21, 22, 23, 24]])"
       ]
      }
     ],
     "prompt_number": 38
    },
    {
     "cell_type": "code",
     "collapsed": false,
     "input": [
      "a > 12"
     ],
     "language": "python",
     "metadata": {},
     "outputs": [
      {
       "output_type": "pyout",
       "prompt_number": 36,
       "text": [
        "array([[False, False, False, False, False],\n",
        "       [False, False, False, False, False],\n",
        "       [False, False, False,  True,  True],\n",
        "       [ True,  True,  True,  True,  True],\n",
        "       [ True,  True,  True,  True,  True]], dtype=bool)"
       ]
      }
     ],
     "prompt_number": 36
    },
    {
     "cell_type": "code",
     "collapsed": false,
     "input": [
      "where(a>12)"
     ],
     "language": "python",
     "metadata": {},
     "outputs": [
      {
       "output_type": "pyout",
       "prompt_number": 37,
       "text": [
        "(array([2, 2, 3, 3, 3, 3, 3, 4, 4, 4, 4, 4]),\n",
        " array([3, 4, 0, 1, 2, 3, 4, 0, 1, 2, 3, 4]))"
       ]
      }
     ],
     "prompt_number": 37
    },
    {
     "cell_type": "code",
     "collapsed": false,
     "input": [],
     "language": "python",
     "metadata": {},
     "outputs": []
    }
   ],
   "metadata": {}
  }
 ]
}

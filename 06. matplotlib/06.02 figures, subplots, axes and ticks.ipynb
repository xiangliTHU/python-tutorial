{
 "cells": [
  {
   "cell_type": "markdown",
   "metadata": {},
   "source": [
    "# 图，子图，轴，记号"
   ]
  },
  {
   "cell_type": "markdown",
   "metadata": {},
   "source": [
    "之前我们使用到了图和轴，但是没有具体说明图和轴的用法。在 `matplotlib` 中，图可以包换多个子图，每个子图中包含多个轴。"
   ]
  },
  {
   "cell_type": "markdown",
   "metadata": {},
   "source": [
    "当我们使用 `plot` 函数的时候，`matplotlib` 调用 `gca()` 得到现有的轴，然后调用 `gcf()` 得到现有的图像；如果没有现有的图像，那么 `matplotlib` 使用 `figure()` 产生一个新的图像，或者严格说来，产生一个 `subplot(111)`。"
   ]
  },
  {
   "cell_type": "markdown",
   "metadata": {},
   "source": [
    "## 图"
   ]
  },
  {
   "cell_type": "markdown",
   "metadata": {},
   "source": [
    "图像以 `Figure #` 为窗口标题，并且数字从 1 开始，`figure()` 函数的主要参数如下："
   ]
  },
  {
   "cell_type": "markdown",
   "metadata": {},
   "source": [
    "参数 | 默认值 | 描述\n",
    "---|---|---\n",
    "`num`|`1`| 图号\n",
    "`figsize`|`figure.figsize`| 图大小（宽，高）（单位英寸）\n",
    "`dpi`|`figure.dpi`| 分辨率（每英寸所打印的点数）\n",
    "`facecolor`|`figure.facecolor`| 背景颜色\n",
    "`edgecolor`|`figure.edgecolor`| 边界颜色\n",
    "`frameon` |`True`| 是否显示图框架"
   ]
  },
  {
   "cell_type": "code",
   "execution_count": null,
   "metadata": {
    "collapsed": true
   },
   "outputs": [],
   "source": []
  },
  {
   "cell_type": "code",
   "execution_count": null,
   "metadata": {
    "collapsed": true
   },
   "outputs": [],
   "source": []
  }
 ],
 "metadata": {
  "kernelspec": {
   "display_name": "Python 2",
   "language": "python",
   "name": "python2"
  },
  "language_info": {
   "codemirror_mode": {
    "name": "ipython",
    "version": 2
   },
   "file_extension": ".py",
   "mimetype": "text/x-python",
   "name": "python",
   "nbconvert_exporter": "python",
   "pygments_lexer": "ipython2",
   "version": "2.7.9"
  }
 },
 "nbformat": 4,
 "nbformat_minor": 0
}

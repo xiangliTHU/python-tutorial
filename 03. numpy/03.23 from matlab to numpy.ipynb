{
 "cells": [
  {
   "cell_type": "markdown",
   "metadata": {},
   "source": [
    "# 从 `Matlab` 到 `Numpy`"
   ]
  },
  {
   "cell_type": "markdown",
   "metadata": {},
   "source": [
    "## **`Numpy`** 和 **`Matlab`** 比较"
   ]
  },
  {
   "cell_type": "markdown",
   "metadata": {},
   "source": [
    "**`Numpy`** 和 **`Matlab`** 有很多相似的地方，但 **`Numpy`** 并非 **`Matlab`** 的克隆，它们之间存在很多差异，例如："
   ]
  },
  {
   "cell_type": "markdown",
   "metadata": {},
   "source": [
    "`MATLAB®`|`Numpy`\n",
    "---|---\n",
    "基本类型为双精度浮点数组，以二维矩阵为主 | 基本类型为 `ndarray`，有特殊的 `matrix` 类\n",
    "1-based 索引 | 0-based 索引\n",
    "脚本主要用于线性代数计算 | 可以使用其他的 **Python** 特性 \n",
    "采用值传递的方式进行计算<br>切片返回复制 | 采用引用传递的方式进行计算<br>切片返回引用\n",
    "文件名必须和函数名相同 | 函数可以在任何地方任何文件中定义\n",
    "收费 | 免费\n",
    "2D，3D图像支持 | 依赖第三方库如 `matplotlib` 等\n",
    "完全的编译环境 | 依赖于 **Python** 提供的编译环境"
   ]
  },
  {
   "cell_type": "markdown",
   "metadata": {},
   "source": [
    "## `array` 还是 `matrix`？"
   ]
  },
  {
   "cell_type": "markdown",
   "metadata": {},
   "source": [
    "`Numpy` 中不仅提供了 `array` 这个基本类型，还提供了支持矩阵操作的类 `matrix`，但是一般推荐使用 `array`："
   ]
  },
  {
   "cell_type": "markdown",
   "metadata": {},
   "source": [
    "- 很多 `numpy` 函数返回的是 `array`，不是 `matrix`\n",
    "- 在 `array` 中，逐元素操作和矩阵操作有着明显的不同\n",
    "- 向量可以不被视为矩阵"
   ]
  },
  {
   "cell_type": "markdown",
   "metadata": {},
   "source": [
    "具体说来："
   ]
  },
  {
   "cell_type": "markdown",
   "metadata": {},
   "source": [
    "- `*， dot(), multiply()`\n",
    "    - `array`：`*` -逐元素乘法，`dot()` -矩阵乘法\n",
    "    - `matrix`：`*` -矩阵乘法，`multiply()` -逐元素乘法\n",
    "- 处理向量 \n",
    "    - `array`：形状为 `1xN, Nx1, N` 的向量的意义是不同的，类似于 `A[:,1]` 的操作返回的是一维数组，形状为 `N`，一维数组的转置仍是自己本身\n",
    "    - `matrix`：形状为 `1xN, Nx1`，`A[:,1]` 返回的是二维 `Nx1` 矩阵\n",
    "- 高维数组\n",
    "    - `array`：支持大于2的维度\n",
    "    - `matrix`：维度只能为2\n",
    "- 属性\n",
    "    - `array`：`.T` 表示转置\n",
    "    - `matrix`：`.H` 表示复共轭转置，`.I` 表示逆，`.A` 表示转化为 `array` 类型\n",
    "- 构造函数\n",
    "    - `array`：`array` 函数接受一个（嵌套）序列作为参数——`array([[1,2,3],[4,5,6]])`\n",
    "    - `matrix`：`matrix` 函数额外支持字符串参数——`matrix(\"[1 2 3; 4 5 6]\")`"
   ]
  },
  {
   "cell_type": "markdown",
   "metadata": {},
   "source": [
    "其优缺点各自如下："
   ]
  },
  {
   "cell_type": "markdown",
   "metadata": {},
   "source": [
    "- **`array`**\n",
    "    - :smile:\n",
    "    - :disapponit:"
   ]
  },
  {
   "cell_type": "markdown",
   "metadata": {},
   "source": [
    "- **`matrix`**"
   ]
  },
  {
   "cell_type": "code",
   "execution_count": null,
   "metadata": {
    "collapsed": true
   },
   "outputs": [],
   "source": []
  }
 ],
 "metadata": {
  "kernelspec": {
   "display_name": "Python 2",
   "language": "python",
   "name": "python2"
  },
  "language_info": {
   "codemirror_mode": {
    "name": "ipython",
    "version": 2
   },
   "file_extension": ".py",
   "mimetype": "text/x-python",
   "name": "python",
   "nbconvert_exporter": "python",
   "pygments_lexer": "ipython2",
   "version": "2.7.9"
  }
 },
 "nbformat": 4,
 "nbformat_minor": 0
}

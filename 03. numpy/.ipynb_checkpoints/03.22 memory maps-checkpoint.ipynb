{
 "cells": [
  {
   "cell_type": "markdown",
   "metadata": {},
   "source": [
    "# 内存映射"
   ]
  },
  {
   "cell_type": "markdown",
   "metadata": {},
   "source": [
    "**Numpy** 有对内存映射的支持。"
   ]
  },
  {
   "cell_type": "markdown",
   "metadata": {},
   "source": [
    "内存映射也是一种读写文件的方法，主要的函数有："
   ]
  },
  {
   "cell_type": "markdown",
   "metadata": {},
   "source": [
    "- `memmap`\n",
    "- `frombuffer`\n",
    "- `ndarray constructor`"
   ]
  },
  {
   "cell_type": "markdown",
   "metadata": {},
   "source": [
    "## memmap"
   ]
  },
  {
   "cell_type": "markdown",
   "metadata": {},
   "source": [
    "    memmap(filename,\n",
    "           dtype=uint8,\n",
    "           mode='r+'\n",
    "           offset=0\n",
    "           shape=None\n",
    "           order=0)"
   ]
  },
  {
   "cell_type": "markdown",
   "metadata": {},
   "source": [
    "`mode` 表示文件被打开的类型： "
   ]
  },
  {
   "cell_type": "markdown",
   "metadata": {},
   "source": [
    "- `r` 只读\n",
    "- `c` 复制+写，但是不改变源文件\n",
    "- `r+` 读写，使用 `flush` 方法会将更改的内容写入文件\n",
    "- `w+` 写，如果存在则将数据覆盖"
   ]
  },
  {
   "cell_type": "markdown",
   "metadata": {},
   "source": [
    "`offset` 表示从第几个位置开始。"
   ]
  }
 ],
 "metadata": {
  "kernelspec": {
   "display_name": "Python 2",
   "language": "python",
   "name": "python2"
  },
  "language_info": {
   "codemirror_mode": {
    "name": "ipython",
    "version": 2
   },
   "file_extension": ".py",
   "mimetype": "text/x-python",
   "name": "python",
   "nbconvert_exporter": "python",
   "pygments_lexer": "ipython2",
   "version": "2.7.9"
  }
 },
 "nbformat": 4,
 "nbformat_minor": 0
}

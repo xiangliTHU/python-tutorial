{
 "cells": [
  {
   "cell_type": "markdown",
   "metadata": {},
   "source": [
    "# 生成数组的函数"
   ]
  },
  {
   "cell_type": "markdown",
   "metadata": {},
   "source": [
    "## arange"
   ]
  },
  {
   "cell_type": "markdown",
   "metadata": {},
   "source": [
    "`arange` 类似于**Python**中的 `range` 函数，只不过返回的不是列表，而是数组："
   ]
  },
  {
   "cell_type": "markdown",
   "metadata": {},
   "source": [
    "    arange(start, stop=None, step=1, dtype=None)"
   ]
  },
  {
   "cell_type": "markdown",
   "metadata": {},
   "source": [
    "产生一个在区间 `[start, stop)` 之间，以 `step` 为间隔的数组，如果只输入一个参数，则默认从 `0` 开始，并以这个值为结束："
   ]
  },
  {
   "cell_type": "code",
   "execution_count": 2,
   "metadata": {
    "collapsed": false
   },
   "outputs": [
    {
     "data": {
      "text/plain": [
       "array([0, 1, 2, 3])"
      ]
     },
     "execution_count": 2,
     "metadata": {},
     "output_type": "execute_result"
    }
   ],
   "source": [
    "import numpy as np\n",
    "np.arange(4)"
   ]
  },
  {
   "cell_type": "markdown",
   "metadata": {},
   "source": [
    "与 `range` 不同， `arange` 允许非整数值输入，产生一个非整型的数组："
   ]
  },
  {
   "cell_type": "code",
   "execution_count": 4,
   "metadata": {
    "collapsed": false
   },
   "outputs": [
    {
     "data": {
      "text/plain": [
       "array([ 0.        ,  0.78539816,  1.57079633,  2.35619449,  3.14159265,\n",
       "        3.92699082,  4.71238898,  5.49778714])"
      ]
     },
     "execution_count": 4,
     "metadata": {},
     "output_type": "execute_result"
    }
   ],
   "source": [
    "np.arange(0, 2 * np.pi, np.pi / 4)"
   ]
  },
  {
   "cell_type": "markdown",
   "metadata": {},
   "source": [
    "数组的类型默认由参数 `start, stop, step` 来确定，也可以指定："
   ]
  },
  {
   "cell_type": "code",
   "execution_count": 6,
   "metadata": {
    "collapsed": false
   },
   "outputs": [
    {
     "data": {
      "text/plain": [
       "array([ 0.        ,  0.78539819,  1.57079637,  2.3561945 ,  3.14159274,\n",
       "        3.92699099,  4.71238899,  5.49778748], dtype=float32)"
      ]
     },
     "execution_count": 6,
     "metadata": {},
     "output_type": "execute_result"
    }
   ],
   "source": [
    "np.arange(0, 2 * np.pi, np.pi / 4, dtype=np.float32)"
   ]
  },
  {
   "cell_type": "markdown",
   "metadata": {},
   "source": [
    "由于存在精度问题，使用浮点数可能出现问题："
   ]
  },
  {
   "cell_type": "code",
   "execution_count": 5,
   "metadata": {
    "collapsed": false
   },
   "outputs": [
    {
     "data": {
      "text/plain": [
       "array([ 1.5,  1.8,  2.1])"
      ]
     },
     "execution_count": 5,
     "metadata": {},
     "output_type": "execute_result"
    }
   ],
   "source": [
    "np.arange(1.5, 2.1, 0.3)"
   ]
  },
  {
   "cell_type": "markdown",
   "metadata": {},
   "source": [
    "`stop` 的值 `2.1` 出现在了数组中，所以使用浮点数的时候需要注意。"
   ]
  },
  {
   "cell_type": "markdown",
   "metadata": {},
   "source": [
    "## linspace"
   ]
  },
  {
   "cell_type": "markdown",
   "metadata": {},
   "source": [
    "    linspace(start, stop, N)"
   ]
  },
  {
   "cell_type": "markdown",
   "metadata": {},
   "source": [
    "产生 `N` 个等距分布在 `[start, stop]`间的元素组成的数组，包括 `start, stop`。"
   ]
  },
  {
   "cell_type": "code",
   "execution_count": 7,
   "metadata": {
    "collapsed": false
   },
   "outputs": [
    {
     "data": {
      "text/plain": [
       "array([ 0.  ,  0.25,  0.5 ,  0.75,  1.  ])"
      ]
     },
     "execution_count": 7,
     "metadata": {},
     "output_type": "execute_result"
    }
   ],
   "source": [
    "np.linspace(0, 1, 5)"
   ]
  },
  {
   "cell_type": "markdown",
   "metadata": {},
   "source": [
    "## logspace"
   ]
  },
  {
   "cell_type": "markdown",
   "metadata": {},
   "source": [
    "    logspace(start, stop, N)"
   ]
  },
  {
   "cell_type": "markdown",
   "metadata": {},
   "source": [
    "产生 N 个对数等距分布的数组，默认以10为底："
   ]
  },
  {
   "cell_type": "code",
   "execution_count": 8,
   "metadata": {
    "collapsed": false
   },
   "outputs": [
    {
     "data": {
      "text/plain": [
       "array([  1.        ,   1.77827941,   3.16227766,   5.62341325,  10.        ])"
      ]
     },
     "execution_count": 8,
     "metadata": {},
     "output_type": "execute_result"
    }
   ],
   "source": [
    "np.logspace(0, 1, 5)"
   ]
  },
  {
   "cell_type": "markdown",
   "metadata": {},
   "source": [
    "产生的值为$\\left[10^0, 10^{0.25},10^{0.5},10^{0.75},10^1\\right]$。"
   ]
  },
  {
   "cell_type": "markdown",
   "metadata": {},
   "source": [
    "## meshgrid"
   ]
  },
  {
   "cell_type": "markdown",
   "metadata": {},
   "source": [
    "有时候需要在二维平面中生成一个等距网格，这时候可以使用 `meshgrid` 来完成这样的工作："
   ]
  },
  {
   "cell_type": "code",
   "execution_count": 9,
   "metadata": {
    "collapsed": true
   },
   "outputs": [],
   "source": [
    "x_ticks = np.linspace(-1, 1, 5)\n",
    "y_ticks = np.linspace(-1, 1, 5)\n",
    "\n",
    "x, y = np.meshgrid(x_ticks, y_ticks)"
   ]
  },
  {
   "cell_type": "markdown",
   "metadata": {},
   "source": [
    "这里产生的 `x, y`如下："
   ]
  },
  {
   "cell_type": "code",
   "execution_count": 10,
   "metadata": {
    "collapsed": false
   },
   "outputs": [
    {
     "data": {
      "text/plain": [
       "array([[-1. , -0.5,  0. ,  0.5,  1. ],\n",
       "       [-1. , -0.5,  0. ,  0.5,  1. ],\n",
       "       [-1. , -0.5,  0. ,  0.5,  1. ],\n",
       "       [-1. , -0.5,  0. ,  0.5,  1. ],\n",
       "       [-1. , -0.5,  0. ,  0.5,  1. ]])"
      ]
     },
     "execution_count": 10,
     "metadata": {},
     "output_type": "execute_result"
    }
   ],
   "source": [
    "x"
   ]
  },
  {
   "cell_type": "code",
   "execution_count": 11,
   "metadata": {
    "collapsed": false
   },
   "outputs": [
    {
     "data": {
      "text/plain": [
       "array([[-1. , -1. , -1. , -1. , -1. ],\n",
       "       [-0.5, -0.5, -0.5, -0.5, -0.5],\n",
       "       [ 0. ,  0. ,  0. ,  0. ,  0. ],\n",
       "       [ 0.5,  0.5,  0.5,  0.5,  0.5],\n",
       "       [ 1. ,  1. ,  1. ,  1. ,  1. ]])"
      ]
     },
     "execution_count": 11,
     "metadata": {},
     "output_type": "execute_result"
    }
   ],
   "source": [
    "y"
   ]
  },
  {
   "cell_type": "markdown",
   "metadata": {},
   "source": [
    "`x` 对应网格的第一维，`y` 对应网格的第二维。"
   ]
  },
  {
   "cell_type": "markdown",
   "metadata": {},
   "source": [
    "图例："
   ]
  },
  {
   "cell_type": "code",
   "execution_count": 33,
   "metadata": {
    "collapsed": false
   },
   "outputs": [
    {
     "name": "stderr",
     "output_type": "stream",
     "text": [
      "c:\\Anaconda\\lib\\site-packages\\IPython\\kernel\\__main__.py:6: RuntimeWarning: invalid value encountered in divide\n"
     ]
    }
   ],
   "source": [
    "%matplotlib inline\n",
    "import matplotlib.pyplot as plt\n",
    "from mpl_toolkits.mplot3d import Axes3D\n",
    "from matplotlib import cm\n",
    "\n",
    "def f(x, y):\n",
    "    # sinc 函数\n",
    "    r = np.sqrt(x ** 2 + y ** 2)\n",
    "    result = np.sin(r) / r\n",
    "    result[r == 0] = 1.0\n",
    "    return result\n",
    "\n",
    "x_ticks = np.linspace(-10, 10, 51)\n",
    "y_ticks = np.linspace(-10, 10, 51)\n",
    "\n",
    "x, y = np.meshgrid(x_ticks, y_ticks)\n",
    "\n",
    "z = f(x, y)\n",
    "\n",
    "fig = plt.figure()\n",
    "ax = fig.add_subplot(111, projection='3d')\n",
    "ax.plot_surface(x, y, z,\n",
    "                rstride=1, cstride=1,\n",
    "                cmap=cm.YlGnBu_r)\n",
    "ax.set_xlabel('x')\n",
    "ax.set_ylabel('y')\n",
    "ax.set_zlabel('z')"
   ]
  },
  {
   "cell_type": "markdown",
   "metadata": {},
   "source": [
    "事实上，`x, y` 中有很多冗余的元素，这里提供了一个 `sparse` 的选项： "
   ]
  },
  {
   "cell_type": "code",
   "execution_count": 37,
   "metadata": {
    "collapsed": true
   },
   "outputs": [],
   "source": [
    "x_ticks = np.linspace(-1, 1, 5)\n",
    "y_ticks = np.linspace(-1, 1, 5)\n",
    "\n",
    "x, y = np.meshgrid(x_ticks, y_ticks, sparse=True)"
   ]
  },
  {
   "cell_type": "code",
   "execution_count": 38,
   "metadata": {
    "collapsed": false
   },
   "outputs": [
    {
     "data": {
      "text/plain": [
       "array([[-1. , -0.5,  0. ,  0.5,  1. ]])"
      ]
     },
     "execution_count": 38,
     "metadata": {},
     "output_type": "execute_result"
    }
   ],
   "source": [
    "x"
   ]
  },
  {
   "cell_type": "code",
   "execution_count": 39,
   "metadata": {
    "collapsed": false
   },
   "outputs": [
    {
     "data": {
      "text/plain": [
       "array([[-1. ],\n",
       "       [-0.5],\n",
       "       [ 0. ],\n",
       "       [ 0.5],\n",
       "       [ 1. ]])"
      ]
     },
     "execution_count": 39,
     "metadata": {},
     "output_type": "execute_result"
    }
   ],
   "source": [
    "y"
   ]
  },
  {
   "cell_type": "markdown",
   "metadata": {},
   "source": [
    "在这个选项下，`x, y` 变成了单一的行向量和列向量。"
   ]
  },
  {
   "cell_type": "markdown",
   "metadata": {},
   "source": [
    "但这并不影响结果："
   ]
  },
  {
   "cell_type": "code",
   "execution_count": 40,
   "metadata": {
    "collapsed": false
   },
   "outputs": [
    {
     "name": "stderr",
     "output_type": "stream",
     "text": [
      "c:\\Anaconda\\lib\\site-packages\\IPython\\kernel\\__main__.py:6: RuntimeWarning: invalid value encountered in divide\n"
     ]
    },
    {
     "data": {
      "text/plain": [
       "<matplotlib.text.Text at 0xc3ae4a8>"
      ]
     },
     "execution_count": 40,
     "metadata": {},
     "output_type": "execute_result"
    },
    {
     "data": {
      "image/png": "[encoded data removed]",
      "text/plain": [
       "<matplotlib.figure.Figure at 0xcff7ba8>"
      ]
     },
     "metadata": {},
     "output_type": "display_data"
    }
   ],
   "source": [
    "x_ticks = np.linspace(-10, 10, 51)\n",
    "y_ticks = np.linspace(-10, 10, 51)\n",
    "\n",
    "x, y = np.meshgrid(x_ticks, y_ticks, sparse=True)\n",
    "\n",
    "z = f(x, y)\n",
    "\n",
    "fig = plt.figure()\n",
    "ax = fig.add_subplot(111, projection='3d')\n",
    "ax.plot_surface(x, y, z,\n",
    "                rstride=1, cstride=1,\n",
    "                cmap=cm.YlGnBu_r)\n",
    "ax.set_xlabel('x')\n",
    "ax.set_ylabel('y')\n",
    "ax.set_zlabel('z')"
   ]
  },
  {
   "cell_type": "markdown",
   "metadata": {},
   "source": [
    "## ogrid / mgrid"
   ]
  },
  {
   "cell_type": "code",
   "execution_count": null,
   "metadata": {
    "collapsed": true
   },
   "outputs": [],
   "source": []
  }
 ],
 "metadata": {
  "kernelspec": {
   "display_name": "Python 2",
   "language": "python",
   "name": "python2"
  },
  "language_info": {
   "codemirror_mode": {
    "name": "ipython",
    "version": 2
   },
   "file_extension": ".py",
   "mimetype": "text/x-python",
   "name": "python",
   "nbconvert_exporter": "python",
   "pygments_lexer": "ipython2",
   "version": "2.7.5"
  }
 },
 "nbformat": 4,
 "nbformat_minor": 0
}

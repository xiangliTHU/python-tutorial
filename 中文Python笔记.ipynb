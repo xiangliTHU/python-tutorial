{
 "cells": [
  {
   "cell_type": "markdown",
   "metadata": {},
   "source": [
    "#目录"
   ]
  },
  {
   "cell_type": "markdown",
   "metadata": {},
   "source": [
    "- **Python 工具**\n",
    "    - [01.01](01.01.html) Python 简介\n",
    "    - [01.02](01.02.html) Ipython 解释器\n",
    "    - [01.03](01.03.html) Ipython notebook\n",
    "    - [01.04](01.04.html) 使用 Anaconda\n",
    "- **Python 基础**\n",
    "    - [02.01](02.01.html) Python 入门演示\n",
    "    - [02.02](02.02.html) Python 数据类型\n",
    "    - [02.03](02.03.html) 数字\n",
    "    - [02.04](02.04.html) 字符串\n",
    "    - [02.05](02.05.html) 索引和分片\n",
    "    - [02.06](02.06.html) 列表\n",
    "    - [02.07](02.07.html) 可变和不可变类型\n",
    "    - [02.08](02.08.html) 元组\n",
    "    - [02.09](02.09.html) 列表与元组的速度比较\n",
    "    - [02.10](02.10.html) 字典\n",
    "    - [02.11](02.11.html) 集合\n",
    "    - [02.12](02.12.html) 不可变集合\n",
    "    - [02.13](02.13.html) Python 赋值机制\n",
    "    - [02.14](02.14.html) 判断\n",
    "    - [02.15](02.15.html) 循环\n",
    "    - [02.16](02.16.html) 列表推导式\n",
    "    - [02.17](02.17.html) 函数\n",
    "    - [02.18](02.18.html) 模块和包\n",
    "    - [02.19](02.19.html) 异常处理\n",
    "    - [02.20](02.20.html) 警告\n",
    "    - [02.21](02.21.html) 文件读写\n",
    "- **Numpy**\n",
    "    - [03.01](03.01.html) Numpy 简介\n",
    "    - [03.02](03.02.html) Matplotlib 基础\n",
    "    - [03.03](03.03.html) Numpy 数组\n",
    "    - [03.04](03.04.html) 数组类型\n",
    "    - [03.05](03.05.html) 数组方法\n",
    "    - [03.06](03.06.html) 数组排序\n",
    "    - [03.07](03.07.html) 数组形状\n",
    "    - [03.08](03.08.html) 对角线\n",
    "    - [03.09](03.09.html) 数组/字符串的转换\n",
    "    - [03.10](03.10.html) 数组属性方法总结\n",
    "    - [03.11](03.11.html) 生成数组的函数\n",
    "    - [03.12](03.12.html) 矩阵\n",
    "    - [03.13](03.13.html) 一般函数\n",
    "    - [03.14](03.14.html) 向量化函数\n",
    "    - [03.15](03.15.html) 二元操作符\n",
    "    - [03.16](03.16.html) ufunc 对象\n",
    "    - [03.17](03.17.html) choose 函数\n",
    "    - [03.18](03.18.html) 数组广播机制\n",
    "    - [03.19](03.19.html) 数组读写\n",
    "    - [03.20](03.20.html) 结构化数组\n",
    "    - [03.21](03.21.html) 记录数组\n",
    "    - [03.22](03.22.html) 内存映射\n",
    "- **Scipy**\n",
    "    - [04.01](04.01.html) 科学 Python 计算简介\n",
    "    - [04.02](04.02.html) 使用 Scipy 进行插值\n",
    "    - [04.03](04.03.html) 使用 Scipy 进行统计  "
   ]
  }
 ],
 "metadata": {
  "kernelspec": {
   "display_name": "Python 2",
   "language": "python",
   "name": "python2"
  },
  "language_info": {
   "codemirror_mode": {
    "name": "ipython",
    "version": 2
   },
   "file_extension": ".py",
   "mimetype": "text/x-python",
   "name": "python",
   "nbconvert_exporter": "python",
   "pygments_lexer": "ipython2",
   "version": "2.7.9"
  }
 },
 "nbformat": 4,
 "nbformat_minor": 0
}
